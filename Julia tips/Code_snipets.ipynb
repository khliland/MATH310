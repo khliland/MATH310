{
 "cells": [
  {
   "cell_type": "markdown",
   "metadata": {},
   "source": [
    "# Code snipets\n",
    "## Table of contents\n",
    "1. [Differences from R/Python/MATLAB](#differentfrom)\n",
    "2. [Print contents of a function](#printfunction)"
   ]
  },
  {
   "cell_type": "markdown",
   "metadata": {},
   "source": [
    "## Differences from R/Python/MATLAB <a name=\"differentfrom\"></a>"
   ]
  },
  {
   "cell_type": "code",
   "execution_count": 4,
   "metadata": {},
   "outputs": [
    {
     "data": {
      "text/plain": [
       "1×3 BitArray{2}:\n",
       " 1  1  0"
      ]
     },
     "execution_count": 4,
     "metadata": {},
     "output_type": "execute_result"
    }
   ],
   "source": [
    "# Element-wise operations using period:\n",
    "a = [1 3 4];\n",
    "b = [1 3 5];\n",
    "a .== b"
   ]
  },
  {
   "cell_type": "markdown",
   "metadata": {},
   "source": [
    "## Print contents of a function <a name=\"printfunction\"></a>\n",
    "### First time installation"
   ]
  },
  {
   "cell_type": "code",
   "execution_count": 1,
   "metadata": {},
   "outputs": [
    {
     "name": "stderr",
     "output_type": "stream",
     "text": [
      "\u001b[32m\u001b[1m   Updating\u001b[22m\u001b[39m registry at `C:\\Users\\krist\\.julia\\registries\\General`\n",
      "\u001b[32m\u001b[1m  Resolving\u001b[22m\u001b[39m package versions...\n",
      "\u001b[32m\u001b[1mUpdating\u001b[22m\u001b[39m `C:\\Users\\krist\\.julia\\environments\\v1.5\\Project.toml`\n",
      " \u001b[90m [da1fd8a2] \u001b[39m\u001b[92m+ CodeTracking v1.0.5\u001b[39m\n",
      "\u001b[32m\u001b[1mNo Changes\u001b[22m\u001b[39m to `C:\\Users\\krist\\.julia\\environments\\v1.5\\Manifest.toml`\n"
     ]
    }
   ],
   "source": [
    "using Pkg\n",
    "Pkg.add(\"CodeTracking\")"
   ]
  },
  {
   "cell_type": "markdown",
   "metadata": {},
   "source": [
    "### Requirements\n",
    "- _Function_ made available by include() / using, or from the base package.\n",
    "- _Arguments_ ready for inputing to the function"
   ]
  },
  {
   "cell_type": "code",
   "execution_count": 38,
   "metadata": {},
   "outputs": [
    {
     "name": "stdout",
     "output_type": "stream",
     "text": [
      "function sum(r::AbstractRange{<:Real})\n",
      "    l = length(r)\n",
      "    # note that a little care is required to avoid overflow in l*(l-1)/2\n",
      "    return l * first(r) + (iseven(l) ? (step(r) * (l-1)) * (l>>1)\n",
      "                                     : (step(r) * l) * ((l-1)>>1))\n",
      "end"
     ]
    }
   ],
   "source": [
    "using CodeTracking\n",
    "print(@code_string sum(1:3))"
   ]
  },
  {
   "cell_type": "code",
   "execution_count": 41,
   "metadata": {},
   "outputs": [
    {
     "name": "stdout",
     "output_type": "stream",
     "text": [
      "function double_this(x)\n",
      "\treturn x.*2 # Double all elements\n",
      "end"
     ]
    }
   ],
   "source": [
    "include(\"myFunc.jl\")\n",
    "print(@code_string double_this(3))"
   ]
  }
 ],
 "metadata": {
  "jupytext": {
   "formats": "ipynb,jl:light"
  },
  "kernelspec": {
   "display_name": "Julia 1.5.3",
   "language": "julia",
   "name": "julia-1.5"
  },
  "language_info": {
   "file_extension": ".jl",
   "mimetype": "application/julia",
   "name": "julia",
   "version": "1.5.3"
  }
 },
 "nbformat": 4,
 "nbformat_minor": 4
}
